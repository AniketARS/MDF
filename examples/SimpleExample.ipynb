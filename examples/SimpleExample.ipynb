{
 "cells": [
  {
   "cell_type": "markdown",
   "id": "ad1ca501",
   "metadata": {},
   "source": [
    "# Creating and executing MDF models\n",
    "\n",
    "This is a quick introduction to building MDF graphs and using them in different scenarios.\n",
    "\n",
    "1. **[Create a Model containing a Graph](#h1)**\n",
    "2. **[Generate a graph image from the model](#h2)**\n",
    "3. **[Execute the graph & print the output values](#h3)**\n",
    "4. **[States in MDF](#h4)**\n",
    "5. **[Conditions in MDF](#h5)**\n",
    "\n",
    "\n",
    "## 1. Create a [Model](https://mdf.readthedocs.io/en/latest/api/Specification.html#model) containing a [Graph](https://mdf.readthedocs.io/en/latest/api/Specification.html#graph) <a class=\"anchor\" id=\"h1\"></a>\n",
    "\n",
    "A Model is the top-level construct in MDF,it contains Graph objects.\n"
   ]
  },
  {
   "cell_type": "code",
   "execution_count": 1,
   "id": "24aeb1e4",
   "metadata": {},
   "outputs": [],
   "source": [
    "from modeci_mdf.mdf import *\n",
    "\n",
    "# Create a model containing one graph\n",
    "mod = Model(id=\"AB\")\n",
    "mod_graph = Graph(id=\"ab_example\")\n",
    "#append the Graph object to the Model\n",
    "mod.graphs.append(mod_graph)\n"
   ]
  },
  {
   "cell_type": "markdown",
   "id": "0fa1b9ad",
   "metadata": {},
   "source": [
    "\n",
    "### 1.1 Create the first [Node](https://mdf.readthedocs.io/en/latest/api/Specification.html#node)\n",
    "A Node defines the computational flow of a Model. It receives and transmits information via Input and Output ports."
   ]
  },
  {
   "cell_type": "code",
   "execution_count": 2,
   "id": "a901b65d",
   "metadata": {},
   "outputs": [
    {
     "name": "stdout",
     "output_type": "stream",
     "text": [
      "ab_example:\n",
      "    nodes:\n",
      "        A:\n",
      "            metadata:\n",
      "                color: 0 .8 0\n",
      "            parameters:\n",
      "                level:\n",
      "                    value: 1.0\n",
      "            output_ports:\n",
      "                output:\n",
      "                    value: level\n",
      "\n"
     ]
    }
   ],
   "source": [
    "# Create a node\n",
    "a_node = Node(id=\"A\", metadata={\"color\": \"0 .8 0\"})\n",
    "\n",
    "# Add a parameter with a specific value\n",
    "a_node.parameters.append(Parameter(id=\"level\", value=1.0))\n",
    "\n",
    "# Add an output port\n",
    "a_node.output_ports.append(OutputPort(id=\"output\", value = \"level\"))\n",
    "\n",
    "# Add node to the graph\n",
    "mod_graph.nodes.append(a_node)\n",
    "\n",
    "# Print current structure as YAML\n",
    "print(mod_graph.to_yaml())"
   ]
  },
  {
   "cell_type": "markdown",
   "id": "3af3646d",
   "metadata": {},
   "source": [
    "### 1.2 Create another [Node](https://mdf.readthedocs.io/en/latest/api/Specification.html#node)"
   ]
  },
  {
   "cell_type": "code",
   "execution_count": 3,
   "id": "ab0018ae",
   "metadata": {},
   "outputs": [],
   "source": [
    "b_node = Node(id=\"B\", metadata={\"color\": \".8 0 0\"})\n",
    "mod_graph.nodes.append(b_node)\n",
    "\n",
    "# Add an input port: https://mdf.readthedocs.io/en/latest/api/Specification.html#inputport\n",
    "b_node.input_ports.append(InputPort(id=\"input\"))\n",
    "\n",
    "# Add some parameters : https://mdf.readthedocs.io/en/latest/api/Specification.html#parameter\n",
    "b_node.parameters.append(Parameter(id=\"slope\", value=1.2))\n",
    "b_node.parameters.append(Parameter(id=\"intercept\", value=3))\n",
    "\n",
    "\n",
    "# Add a parameter which used the internal parameter as well as the value from the input\n",
    "p1 = Parameter(\n",
    "    id=\"linear_func\",\n",
    "    value=\"input * slope + intercept\",\n",
    ")\n",
    "b_node.parameters.append(p1)\n",
    "\n",
    "# Add an output port : https://mdf.readthedocs.io/en/latest/api/Specification.html#outputport\n",
    "b_node.output_ports.append(OutputPort(id=\"output\", value=\"linear_func\"))\n"
   ]
  },
  {
   "cell_type": "markdown",
   "id": "35e243a6",
   "metadata": {},
   "source": [
    "### 1.3 Create an  [Edge](https://mdf.readthedocs.io/en/latest/api/Specification.html#edge) between the [Nodes](https://mdf.readthedocs.io/en/latest/api/Specification.html#node)\n",
    "Use the [Simple Connect](https://mdf.readthedocs.io/en/latest/api/_autosummary/modeci_mdf.utils.simple_connect.html?highlight=simple%20connect#modeci-mdf-utils-simple-connect) method to do this."
   ]
  },
  {
   "cell_type": "code",
   "execution_count": 4,
   "id": "20b8a6b7",
   "metadata": {},
   "outputs": [
    {
     "name": "stdout",
     "output_type": "stream",
     "text": [
      "ab_example:\n",
      "    nodes:\n",
      "        A:\n",
      "            metadata:\n",
      "                color: 0 .8 0\n",
      "            parameters:\n",
      "                level:\n",
      "                    value: 1.0\n",
      "            output_ports:\n",
      "                output:\n",
      "                    value: level\n",
      "        B:\n",
      "            metadata:\n",
      "                color: .8 0 0\n",
      "            input_ports:\n",
      "                input: {}\n",
      "            parameters:\n",
      "                slope:\n",
      "                    value: 1.2\n",
      "                intercept:\n",
      "                    value: 3\n",
      "                linear_func:\n",
      "                    value: input * slope + intercept\n",
      "            output_ports:\n",
      "                output:\n",
      "                    value: linear_func\n",
      "    edges:\n",
      "        edge_A_B:\n",
      "            sender: A\n",
      "            receiver: B\n",
      "            sender_port: output\n",
      "            receiver_port: input\n",
      "\n"
     ]
    }
   ],
   "source": [
    "# This helper method just adds an edge connecting the first output port of \n",
    "# the pre node to the first input port of the post node\n",
    "from modeci_mdf.utils import simple_connect\n",
    "\n",
    "e1 = simple_connect(a_node, b_node, mod_graph)\n",
    "\n",
    "# Print the current structure\n",
    "print(mod_graph.to_yaml())\n"
   ]
  },
  {
   "cell_type": "markdown",
   "id": "2b8c8f85",
   "metadata": {},
   "source": [
    "### 1.4 Save the model to file\n",
    "\n",
    "The model can be saved to a file (serialized) in either JSON or YAML format."
   ]
  },
  {
   "cell_type": "code",
   "execution_count": 5,
   "id": "e50d9aab",
   "metadata": {},
   "outputs": [
    {
     "data": {
      "text/plain": [
       "'AB.yaml'"
      ]
     },
     "execution_count": 5,
     "metadata": {},
     "output_type": "execute_result"
    }
   ],
   "source": [
    "mod.to_json_file(\"AB.json\")\n",
    "mod.to_yaml_file(\"AB.yaml\")"
   ]
  },
  {
   "cell_type": "markdown",
   "id": "2948c73d",
   "metadata": {},
   "source": [
    "## 2. Generate a graph image from the model <a class=\"anchor\" id=\"h2\"></a>\n",
    "\n",
    "We will use the [to_graph_image](https://mdf.readthedocs.io/en/latest/api/_autosummary/modeci_mdf.mdf.Model.html?highlight=to%20graph%20image#modeci_mdf.mdf.Model.to_graph_image) method on the model to generate an image representing the structure of the graph.\n"
   ]
  },
  {
   "cell_type": "code",
   "execution_count": 6,
   "id": "69740bde",
   "metadata": {},
   "outputs": [
    {
     "name": "stdout",
     "output_type": "stream",
     "text": [
      "Converting MDF graph: ab_example to graphviz (level: 3, format: png)\n",
      "    Node: A\n",
      "Converting 0 .8 0 to hex color\n",
      "    Node: B\n",
      "Converting .8 0 0 to hex color\n",
      "    Edge: edge_A_B connects A to B\n",
      "Written graph image to: AB.png\n"
     ]
    },
    {
     "data": {
      "image/png": "[encoded data removed]",
      "text/plain": [
       "<IPython.core.display.Image object>"
      ]
     },
     "execution_count": 6,
     "metadata": {},
     "output_type": "execute_result"
    }
   ],
   "source": [
    "mod.to_graph_image(\n",
    "        engine=\"dot\",\n",
    "        output_format=\"png\",\n",
    "        view_on_render=False,\n",
    "        level=3,\n",
    "        filename_root=\"AB\"\n",
    "    )\n",
    "\n",
    "from IPython.display import Image\n",
    "Image(filename=\"AB.png\")"
   ]
  },
  {
   "cell_type": "markdown",
   "id": "ed4ff05b",
   "metadata": {},
   "source": [
    "# 3. Execute the graph & print the output values <a class=\"anchor\" id=\"h3\"></a>\n",
    "\n",
    "The Graph is converted to an [EvaluableGraph](https://mdf.readthedocs.io/en/latest/api/_autosummary/modeci_mdf.execution_engine.EvaluableGraph.html#modeci_mdf.execution_engine.EvaluableGraph), which can be used to evaluate the current state of the graph's parameters. "
   ]
  },
  {
   "cell_type": "markdown",
   "id": "1ebabb89",
   "metadata": {},
   "source": [
    "### 3.1 Execute the graph with the current parameter values "
   ]
  },
  {
   "cell_type": "code",
   "execution_count": 7,
   "id": "543006ef",
   "metadata": {},
   "outputs": [
    {
     "name": "stdout",
     "output_type": "stream",
     "text": [
      "\n",
      "Init graph: ab_example\n",
      "Evaluating graph: ab_example, root nodes: ['A'], with array format numpy\n",
      "Output of A: 1\n",
      "Output of B: 4.2\n"
     ]
    }
   ],
   "source": [
    "from modeci_mdf.execution_engine import EvaluableGraph\n",
    "\n",
    "eg = EvaluableGraph(mod_graph, verbose=False)\n",
    "eg.evaluate()\n",
    "\n",
    "print('Output of A: %s'%eg.enodes[\"A\"].evaluable_outputs[\"output\"].curr_value)\n",
    "print('Output of B: %s'%eg.enodes[\"B\"].evaluable_outputs[\"output\"].curr_value)"
   ]
  },
  {
   "cell_type": "markdown",
   "id": "d3d3ef42",
   "metadata": {},
   "source": [
    "### 3.2 Change a value to a Numpy array & execute the graph again"
   ]
  },
  {
   "cell_type": "code",
   "execution_count": 8,
   "id": "e9142f37",
   "metadata": {},
   "outputs": [
    {
     "name": "stdout",
     "output_type": "stream",
     "text": [
      "Evaluating graph: ab_example, root nodes: ['A'], with array format numpy\n",
      "Output of A:\n",
      "[[1 2]\n",
      " [3 4]]\n",
      "Output of B:\n",
      "[[4.2 5.4]\n",
      " [6.6 7.8]]\n"
     ]
    }
   ],
   "source": [
    "import numpy as np \n",
    "#Convert the value of the parameter to a numpy array\n",
    "a_node.get_parameter('level').value = np.array([[1,2],[3,4]])\n",
    "\n",
    "eg.evaluate()\n",
    "\n",
    "print('Output of A:\\n%s'%eg.enodes[\"A\"].evaluable_outputs[\"output\"].curr_value)\n",
    "print('Output of B:\\n%s'%eg.enodes[\"B\"].evaluable_outputs[\"output\"].curr_value)"
   ]
  },
  {
   "cell_type": "markdown",
   "id": "a11ce7ac",
   "metadata": {},
   "source": [
    "# 4. States in MDF <a class=\"anchor\" id=\"h4\"></a>\n"
   ]
  },
  {
   "cell_type": "markdown",
   "id": "c39f8035",
   "metadata": {},
   "source": [
    "### 4.1 Create a Node"
   ]
  },
  {
   "cell_type": "code",
   "execution_count": 9,
   "id": "df3a5e6c",
   "metadata": {},
   "outputs": [
    {
     "name": "stdout",
     "output_type": "stream",
     "text": [
      "state_example:\n",
      "    nodes:\n",
      "        A:\n",
      "            parameters:\n",
      "                increment:\n",
      "                    value: 1.0\n",
      "                count:\n",
      "                    value: count + increment\n",
      "            output_ports:\n",
      "                output:\n",
      "                    value: count\n",
      "\n"
     ]
    }
   ],
   "source": [
    "# Create a model \n",
    "mod = Model(id=\"States\")\n",
    "mod_graph = Graph(id=\"state_example\")\n",
    "mod.graphs.append(mod_graph)\n",
    "\n",
    "a_node = Node(id=\"A\")\n",
    "mod_graph.nodes.append(a_node)\n",
    "\n",
    "#https://mdf.readthedocs.io/en/latest/api/Specification.html#parameter\n",
    "#Add a stateless parameter - this is a parameter whose value is not influenced by a previous parameter\n",
    "a_node.parameters.append(Parameter(id=\"increment\", value=1.0))\n",
    "\n",
    "#Add a stateful parameter - this is a parameter whose value is influenced by a previous parameter\n",
    "p1 = Parameter(\n",
    "    id=\"count\",\n",
    "    value=\"count + increment\",\n",
    ")\n",
    "a_node.parameters.append(p1)\n",
    "\n",
    "\n",
    "# Add an output port\n",
    "a_node.output_ports.append(OutputPort(id=\"output\", value=\"count\"))\n",
    "\n",
    "# Print the current structure\n",
    "print(mod_graph.to_yaml())\n",
    "\n"
   ]
  },
  {
   "cell_type": "markdown",
   "id": "4a72cd13",
   "metadata": {},
   "source": [
    "### 4.2. Generate a graph image from the model "
   ]
  },
  {
   "cell_type": "code",
   "execution_count": 10,
   "id": "22748de7",
   "metadata": {},
   "outputs": [
    {
     "name": "stdout",
     "output_type": "stream",
     "text": [
      "Converting MDF graph: state_example to graphviz (level: 3, format: png)\n",
      "    Node: A\n",
      "Written graph image to: states.png\n"
     ]
    },
    {
     "data": {
      "image/png": "[encoded data removed]",
      "text/plain": [
       "<IPython.core.display.Image object>"
      ]
     },
     "execution_count": 10,
     "metadata": {},
     "output_type": "execute_result"
    }
   ],
   "source": [
    "\n",
    "mod.to_graph_image(\n",
    "        engine=\"dot\",\n",
    "        output_format=\"png\",\n",
    "        view_on_render=False,\n",
    "        level=3,\n",
    "        filename_root=\"states\"\n",
    "    )\n",
    "\n",
    "from IPython.display import Image\n",
    "Image(filename=\"states.png\")"
   ]
  },
  {
   "cell_type": "markdown",
   "id": "b53faa47",
   "metadata": {},
   "source": [
    "### 4.3. Execute the graph & print the output values\n",
    "The Graph is converted into an [EvaluableGraph](https://mdf.readthedocs.io/en/latest/api/_autosummary/modeci_mdf.execution_engine.EvaluableGraph.html#modeci_mdf.execution_engine.EvaluableGraph),which can be used to evaluate the current state of the graph's parameters."
   ]
  },
  {
   "cell_type": "code",
   "execution_count": 11,
   "id": "16e13e4e",
   "metadata": {},
   "outputs": [
    {
     "name": "stdout",
     "output_type": "stream",
     "text": [
      "\n",
      "Init graph: state_example\n",
      "Evaluating graph: state_example, root nodes: ['A'], with array format numpy\n",
      "Output of A: 1\n"
     ]
    }
   ],
   "source": [
    "#Evaluating the graph once and printing out the output value\n",
    "from modeci_mdf.execution_engine import EvaluableGraph\n",
    "\n",
    "eg = EvaluableGraph(mod_graph, verbose=False)\n",
    "eg.evaluate()\n",
    "\n",
    "print('Output of A: %s'%eg.enodes[\"A\"].evaluable_outputs[\"output\"].curr_value)"
   ]
  },
  {
   "cell_type": "code",
   "execution_count": 12,
   "id": "08bee687",
   "metadata": {},
   "outputs": [
    {
     "name": "stdout",
     "output_type": "stream",
     "text": [
      "===== Evaluating at t = 0  ======\n",
      "Evaluating graph: state_example, root nodes: ['A'], with array format <built-in function format>\n",
      "Output of A: 2\n",
      "===== Evaluating at t = 1  ======\n",
      "Evaluating graph: state_example, root nodes: ['A'], with array format numpy\n",
      "Output of A: 3\n",
      "===== Evaluating at t = 2  ======\n",
      "Evaluating graph: state_example, root nodes: ['A'], with array format numpy\n",
      "Output of A: 4\n",
      "===== Evaluating at t = 3  ======\n",
      "Evaluating graph: state_example, root nodes: ['A'], with array format numpy\n",
      "Output of A: 5\n",
      "===== Evaluating at t = 4  ======\n",
      "Evaluating graph: state_example, root nodes: ['A'], with array format numpy\n",
      "Output of A: 6\n",
      "===== Evaluating at t = 5  ======\n",
      "Evaluating graph: state_example, root nodes: ['A'], with array format numpy\n",
      "Output of A: 7\n"
     ]
    }
   ],
   "source": [
    "#Evaluating the Graph 5 times using a time series & changing time increment by 1\n",
    "dt = 1\n",
    "duration = 5\n",
    "t = 0\n",
    "times = []\n",
    "while t <= duration:\n",
    "    times.append(t)\n",
    "    print(\"===== Evaluating at t = %s  ======\" % (t))\n",
    "    if t == 0:\n",
    "        eg.evaluate(array_format=format)\n",
    "    else:\n",
    "        eg.evaluate(time_increment=dt)\n",
    "    #notice that the output increments by 1 because of the stateful parameter setup on the node    \n",
    "    print('Output of A: %s'%eg.enodes[\"A\"].evaluable_outputs[\"output\"].curr_value)    \n",
    "    t += dt\n"
   ]
  },
  {
   "cell_type": "markdown",
   "id": "18384af3",
   "metadata": {},
   "source": [
    "# 5. Conditions in MDF <a class=\"anchor\" id=\"h5\"></a>\n",
    "In MDF, Conditions are a set of descriptors which specify & determine how many times individual [Nodes](https://mdf.readthedocs.io/en/latest/api/Specification.html#node) are allowed to execute.\n",
    "To learn more about Conditions check : [Graph-Scheduler](https://kmantel.github.io/graph-scheduler/Condition.html)"
   ]
  },
  {
   "cell_type": "markdown",
   "id": "654844a2",
   "metadata": {},
   "source": [
    "### 5.1 Create another [Node](https://mdf.readthedocs.io/en/latest/api/Specification.html#node)"
   ]
  },
  {
   "cell_type": "code",
   "execution_count": 13,
   "id": "acda2957",
   "metadata": {},
   "outputs": [
    {
     "name": "stdout",
     "output_type": "stream",
     "text": [
      "state_example:\n",
      "    nodes:\n",
      "        A:\n",
      "            parameters:\n",
      "                increment:\n",
      "                    value: 1.0\n",
      "                count:\n",
      "                    value: count + increment\n",
      "            output_ports:\n",
      "                output:\n",
      "                    value: count\n",
      "        B:\n",
      "            input_ports:\n",
      "                input: {}\n",
      "            parameters:\n",
      "                param_B:\n",
      "                    value: param_B + 1\n",
      "            output_ports:\n",
      "                output:\n",
      "                    value: input\n",
      "\n"
     ]
    }
   ],
   "source": [
    "#import the necessary package to use Conditions in MDF\n",
    "import graph_scheduler\n",
    "\n",
    "b_node = Node(id=\"B\")\n",
    "mod_graph.nodes.append(b_node)\n",
    "\n",
    "# Add an input port\n",
    "b_node.input_ports.append(InputPort(id=\"input\"))\n",
    "\n",
    "# Add a parameters\n",
    "b_node.parameters.append(Parameter(id=\"param_B\", value=\"param_B + 1\"))\n",
    "\n",
    "# Add an output port\n",
    "b_node.output_ports.append(OutputPort(id=\"output\", value=\"input\"))\n",
    "\n",
    "# Print current structure as YAML\n",
    "print(mod_graph.to_yaml())"
   ]
  },
  {
   "cell_type": "markdown",
   "id": "cc3a0b44",
   "metadata": {},
   "source": [
    "### 5.2 Add Conditions \n",
    "To Node B, add a [Pre-Specified](https://kmantel.github.io/graph-scheduler/Condition.html#list-of-pre-specified-conditions), Node-Based Condition, [EveryNCalls](https://kmantel.github.io/graph-scheduler/Condition.html?highlight=everyncalls#graph_scheduler.condition.EveryNCalls)"
   ]
  },
  {
   "cell_type": "code",
   "execution_count": 14,
   "id": "6ed17fc6",
   "metadata": {},
   "outputs": [],
   "source": [
    "#This condition means that A is always executed\n",
    "cond_a = Condition(type=\"Always\")\n",
    "#This condition means that B will execute when A has run 3 times\n",
    "cond_b = Condition(type=\"EveryNCalls\", dependencies=a_node.id, n=3)  "
   ]
  },
  {
   "cell_type": "code",
   "execution_count": 15,
   "id": "7933f4cd",
   "metadata": {},
   "outputs": [
    {
     "name": "stdout",
     "output_type": "stream",
     "text": [
      "state_example:\n",
      "    nodes:\n",
      "        A:\n",
      "            parameters:\n",
      "                increment:\n",
      "                    value: 1.0\n",
      "                count:\n",
      "                    value: count + increment\n",
      "            output_ports:\n",
      "                output:\n",
      "                    value: count\n",
      "        B:\n",
      "            input_ports:\n",
      "                input: {}\n",
      "            parameters:\n",
      "                param_B:\n",
      "                    value: param_B + 1\n",
      "            output_ports:\n",
      "                output:\n",
      "                    value: input\n",
      "    edges:\n",
      "        edge_A_B:\n",
      "            sender: A\n",
      "            receiver: B\n",
      "            sender_port: output\n",
      "            receiver_port: input\n",
      "    conditions:\n",
      "        node_specific:\n",
      "            A:\n",
      "                type: Always\n",
      "                kwargs: {}\n",
      "            B:\n",
      "                type: EveryNCalls\n",
      "                kwargs:\n",
      "                    dependencies: A\n",
      "                    n: 3\n",
      "\n"
     ]
    }
   ],
   "source": [
    "#add the conditions to the Graph\n",
    "mod_graph.conditions = ConditionSet(\n",
    "    node_specific={a_node.id: cond_a, b_node.id: cond_b},\n",
    ")\n",
    "#Connect the 2 Nodes via an edge\n",
    "e2 = simple_connect(a_node, b_node, mod_graph)\n",
    "\n",
    "# Print the current structure\n",
    "print(mod_graph.to_yaml())"
   ]
  },
  {
   "cell_type": "markdown",
   "id": "722471db",
   "metadata": {},
   "source": [
    "### 5.3 Execute the Graph\n",
    "The Graph is converted into an [EvaluableGraph](https://mdf.readthedocs.io/en/latest/api/_autosummary/modeci_mdf.execution_engine.EvaluableGraph.html#modeci_mdf.execution_engine.EvaluableGraph),which can be used to evaluate the current state of the graph's parameters. \n"
   ]
  },
  {
   "cell_type": "code",
   "execution_count": 16,
   "id": "7a7b18c8",
   "metadata": {},
   "outputs": [
    {
     "name": "stdout",
     "output_type": "stream",
     "text": [
      "Graph state_example with 2 nodes and 1 edges\n",
      "\n",
      "Node(metadata=None, id='A', input_ports=[], functions=[], parameters=[Parameter(metadata=None, id='increment', value=1.0, default_initial_value=None, time_derivative=None, function=None, args=None, conditions=[]), Parameter(metadata=None, id='count', value='count + increment', default_initial_value=None, time_derivative=None, function=None, args=None, conditions=[])], output_ports=[OutputPort(metadata=None, id='output', value='count', shape=None, type=None)])\n",
      "Node(metadata=None, id='B', input_ports=[InputPort(metadata=None, id='input', shape=None, type=None)], functions=[], parameters=[Parameter(metadata=None, id='param_B', value='param_B + 1', default_initial_value=None, time_derivative=None, function=None, args=None, conditions=[])], output_ports=[OutputPort(metadata=None, id='output', value='input', shape=None, type=None)])\n",
      "Edge(metadata=None, id='edge_A_B', sender='A', receiver='B', sender_port='output', receiver_port='input', parameters=None)\n"
     ]
    }
   ],
   "source": [
    "from modeci_mdf.utils import print_summary\n",
    "#import the print summary helper function which summarizes the Graph\n",
    "print_summary(mod_graph)"
   ]
  },
  {
   "cell_type": "code",
   "execution_count": 17,
   "id": "2baf7243",
   "metadata": {},
   "outputs": [
    {
     "name": "stdout",
     "output_type": "stream",
     "text": [
      "\n",
      "Init graph: state_example\n",
      "\n",
      "  Init node: A\n",
      "all_params_to_check: [Parameter(metadata=None, id='increment', value=1.0, default_initial_value=None, time_derivative=None, function=None, args=None, conditions=[]), Parameter(metadata=None, id='count', value='count + increment', default_initial_value=None, time_derivative=None, function=None, args=None, conditions=[])]\n",
      "    Checking whether parameter: increment with args: None, value: 1.0 (<class 'float'>) is sufficiently determined by known vars ['constant', 'increment', 'count']\n",
      "    Are all of [] in ['constant', 'increment', 'count', 'increment']? [], i.e. True\n",
      "    Checking whether parameter: count with args: None, value: count + increment (<class 'str'>) is sufficiently determined by known vars ['constant', 'increment', 'count', 'increment']\n",
      "    Are all of ['count', 'increment'] in ['constant', 'increment', 'count', 'increment', 'count']? [True, True], i.e. True\n",
      "\n",
      "  Init node: B\n",
      "all_params_to_check: [Parameter(metadata=None, id='param_B', value='param_B + 1', default_initial_value=None, time_derivative=None, function=None, args=None, conditions=[])]\n",
      "    Checking whether parameter: param_B with args: None, value: param_B + 1 (<class 'str'>) is sufficiently determined by known vars ['constant', 'input', 'param_B']\n",
      "    Are all of ['param_B'] in ['constant', 'input', 'param_B', 'param_B']? [True], i.e. True\n",
      "Evaluating graph: state_example, root nodes: ['A'], with array format numpy\n",
      " node-based conditions\n",
      "  A: Always()\n",
      "  B: EveryNCalls(Node(metadata=None, id='A', input_ports=[], functions=[], parameters=[Parameter(metadata=None, id='increment', value=1.0, default_initial_value=None, time_derivative=None, function=None, args=None, conditions=[]), Parameter(metadata=None, id='count', value='count + increment', default_initial_value=None, time_derivative=None, function=None, args=None, conditions=[])], output_ports=[OutputPort(metadata=None, id='output', value='count', shape=None, type=None)]), 3)\n",
      " termination conditions\n",
      "  TimeScale.ENVIRONMENT_SEQUENCE: Never()\n",
      "  TimeScale.ENVIRONMENT_STATE_UPDATE: AllHaveRun()\n",
      "> Evaluating time step: Time(environment_sequence: 0, environment_state_update: 0, consideration_set_execution: 0)\n",
      "\n",
      "  ---------------\n",
      "  Evaluating Node: A with ['increment', 'count']\n",
      "    Initial eval of <Parameter(metadata=None, id='increment', value=1.0, default_initial_value=None, time_derivative=None, function=None, args=None, conditions=[])> = 1 \n",
      "    Initial eval of <Parameter: count = count + increment (stateful: True)>  \n",
      "    Evaluating Parameter: increment = 1.0 (stateful: False) with [increment=1, count=0] \n",
      "    Evaluated Parameter: increment = 1.0 (stateful: False) with [increment=1, count=0] \n",
      "       =\t1\n",
      "    Evaluating Parameter: count = count + increment (stateful: True) with [increment=1, count=0] \n",
      "    Evaluated Parameter: count = count + increment (stateful: True) with [increment=1, count=0] \n",
      "       =\t1\n",
      "    Evaluating OutputPort(metadata=None, id='output', value='count', shape=None, type=None) with [increment=1, count=1] \n",
      "    Evaluated OutputPort(metadata=None, id='output', value='count', shape=None, type=None) with [increment=1, count=1] \n",
      "       =\t1\n",
      "> Evaluating time step: Time(environment_sequence: 0, environment_state_update: 0, consideration_set_execution: 0)\n",
      "\n",
      "  ---------------\n",
      "  Evaluating Node: A with ['increment', 'count']\n",
      "    Evaluating Parameter: increment = 1.0 (stateful: False) with [increment=1, count=1] \n",
      "    Evaluated Parameter: increment = 1.0 (stateful: False) with [increment=1, count=1] \n",
      "       =\t1\n",
      "    Evaluating Parameter: count = count + increment (stateful: True) with [increment=1, count=1] \n",
      "    Evaluated Parameter: count = count + increment (stateful: True) with [increment=1, count=1] \n",
      "       =\t2\n",
      "    Evaluating OutputPort(metadata=None, id='output', value='count', shape=None, type=None) with [increment=1, count=2] \n",
      "    Evaluated OutputPort(metadata=None, id='output', value='count', shape=None, type=None) with [increment=1, count=2] \n",
      "       =\t2\n",
      "> Evaluating time step: Time(environment_sequence: 0, environment_state_update: 0, consideration_set_execution: 0)\n",
      "\n",
      "  ---------------\n",
      "  Evaluating Node: A with ['increment', 'count']\n",
      "    Evaluating Parameter: increment = 1.0 (stateful: False) with [increment=1, count=2] \n",
      "    Evaluated Parameter: increment = 1.0 (stateful: False) with [increment=1, count=2] \n",
      "       =\t1\n",
      "    Evaluating Parameter: count = count + increment (stateful: True) with [increment=1, count=2] \n",
      "    Evaluated Parameter: count = count + increment (stateful: True) with [increment=1, count=2] \n",
      "       =\t3\n",
      "    Evaluating OutputPort(metadata=None, id='output', value='count', shape=None, type=None) with [increment=1, count=3] \n",
      "    Evaluated OutputPort(metadata=None, id='output', value='count', shape=None, type=None) with [increment=1, count=3] \n",
      "       =\t3\n",
      "> Evaluating time step: Time(environment_sequence: 0, environment_state_update: 0, consideration_set_execution: 1)\n",
      "  Edge edge_A_B connects A to B, passing 3 with weight 1\n",
      "    Input value in input set to 3\n",
      "\n",
      "  ---------------\n",
      "  Evaluating Node: B with ['param_B']\n",
      "    Evaluated InputPort(metadata=None, id='input', shape=None, type=None) with params [] =\t3\n",
      "    Initial eval of <Parameter: param_B = param_B + 1 (stateful: True)>  \n",
      "    Evaluating Parameter: param_B = param_B + 1 (stateful: True) with [input=3, param_B=0] \n",
      "    Evaluated Parameter: param_B = param_B + 1 (stateful: True) with [input=3, param_B=0] \n",
      "       =\t1\n",
      "    Evaluating OutputPort(metadata=None, id='output', value='input', shape=None, type=None) with [input=3, param_B=1] \n",
      "    Evaluated OutputPort(metadata=None, id='output', value='input', shape=None, type=None) with [input=3, param_B=1] \n",
      "       =\t3\n",
      "> Order of execution of nodes: ['A', 'A', 'A', 'B']\n",
      "\n",
      " Trial terminated\n",
      "Output of A: 3\n",
      "Output of B: 3\n"
     ]
    }
   ],
   "source": [
    "\n",
    "from modeci_mdf.execution_engine import EvaluableGraph\n",
    "\n",
    "eg = EvaluableGraph(mod_graph, verbose=True)\n",
    "#Calling the evaluate method will print out the order of the execution of Nodes per the set conditions\n",
    "#Expected to be ('A','A','A','B')\n",
    "eg.evaluate()\n",
    "#The Output of A & B\n",
    "print('Output of A: %s'%eg.enodes[\"A\"].evaluable_outputs[\"output\"].curr_value) \n",
    "print('Output of B: %s'%eg.enodes[\"B\"].evaluable_outputs[\"output\"].curr_value) "
   ]
  },
  {
   "cell_type": "markdown",
   "id": "015238da",
   "metadata": {},
   "source": [
    "### 5.4. Generate a graph image from the model "
   ]
  },
  {
   "cell_type": "code",
   "execution_count": 18,
   "id": "145d9c13",
   "metadata": {},
   "outputs": [
    {
     "name": "stdout",
     "output_type": "stream",
     "text": [
      "Converting MDF graph: state_example to graphviz (level: 3, format: png)\n",
      "    Node: A\n",
      "    Node: B\n",
      "    Edge: edge_A_B connects A to B\n",
      "Written graph image to: conditions.png\n"
     ]
    },
    {
     "data": {
      "image/png": "[encoded data removed]",
      "text/plain": [
       "<IPython.core.display.Image object>"
      ]
     },
     "execution_count": 18,
     "metadata": {},
     "output_type": "execute_result"
    }
   ],
   "source": [
    "mod.to_graph_image(\n",
    "        engine=\"dot\",\n",
    "        output_format=\"png\",\n",
    "        view_on_render=False,\n",
    "        level=3,\n",
    "        filename_root=\"conditions\"\n",
    "    )\n",
    "\n",
    "from IPython.display import Image\n",
    "Image(filename=\"conditions.png\")"
   ]
  },
  {
   "cell_type": "code",
   "execution_count": null,
   "id": "9e4832e9",
   "metadata": {},
   "outputs": [],
   "source": []
  }
 ],
 "metadata": {
  "kernelspec": {
   "display_name": "Python 3 (ipykernel)",
   "language": "python",
   "name": "python3"
  },
  "language_info": {
   "codemirror_mode": {
    "name": "ipython",
    "version": 3
   },
   "file_extension": ".py",
   "mimetype": "text/x-python",
   "name": "python",
   "nbconvert_exporter": "python",
   "pygments_lexer": "ipython3",
   "version": "3.9.5"
  }
 },
 "nbformat": 4,
 "nbformat_minor": 5
}
