{
 "cells": [
  {
   "cell_type": "markdown",
   "id": "87a95dcf",
   "metadata": {},
   "source": [
    "# Creating and excecuting MDF models\n",
    "\n",
    "This is a quick introduction to building MDF graphs and using them in different scenarios.\n",
    "\n",
    "1. **[Create a Model containing a Graph](#h1)**\n",
    "2. **[Generate a graph image from the model](#h2)**\n",
    "3. **[Execute the graph & print the output values](#h3)**\n",
    "\n",
    "\n",
    "## 1. Create a [Model](https://mdf.readthedocs.io/en/latest/api/Specification.html#model) containing a [Graph](https://mdf.readthedocs.io/en/latest/api/Specification.html#graph) <a class=\"anchor\" id=\"h1\"></a>\n"
   ]
  },
  {
   "cell_type": "code",
   "execution_count": 1,
   "id": "24aeb1e4",
   "metadata": {},
   "outputs": [],
   "source": [
    "from modeci_mdf.mdf import *\n",
    "\n",
    "# Create a model containing one graph\n",
    "mod = Model(id=\"AB\")\n",
    "mod_graph = Graph(id=\"ab_example\")\n",
    "mod.graphs.append(mod_graph)\n"
   ]
  },
  {
   "cell_type": "markdown",
   "id": "6e3424b7",
   "metadata": {},
   "source": [
    "\n",
    "### 1.1 Create the first [Node](https://mdf.readthedocs.io/en/latest/api/Specification.html#node)"
   ]
  },
  {
   "cell_type": "code",
   "execution_count": 2,
   "id": "a901b65d",
   "metadata": {},
   "outputs": [
    {
     "name": "stdout",
     "output_type": "stream",
     "text": [
      "ab_example:\n",
      "    nodes:\n",
      "        A:\n",
      "            metadata:\n",
      "                color: 0 .8 0\n",
      "            parameters:\n",
      "                level:\n",
      "                    value: 1.0\n",
      "            output_ports:\n",
      "                output:\n",
      "                    value: level\n",
      "\n"
     ]
    }
   ],
   "source": [
    "# Create a node\n",
    "a_node = Node(id=\"A\", metadata={\"color\": \"0 .8 0\"})\n",
    "\n",
    "# Add a parameter with a specific value\n",
    "a_node.parameters.append(Parameter(id=\"level\", value=1.0))\n",
    "\n",
    "# Add an output port\n",
    "a_node.output_ports.append(OutputPort(id=\"output\", value = \"level\"))\n",
    "\n",
    "# Add node to the graph\n",
    "mod_graph.nodes.append(a_node)\n",
    "\n",
    "# Print current structure as YAML\n",
    "print(mod_graph.to_yaml())"
   ]
  },
  {
   "cell_type": "markdown",
   "id": "46c51277",
   "metadata": {},
   "source": [
    "### 1.2 Create another [Node](https://mdf.readthedocs.io/en/latest/api/Specification.html#node)"
   ]
  },
  {
   "cell_type": "code",
   "execution_count": 3,
   "id": "1580a79e",
   "metadata": {},
   "outputs": [],
   "source": [
    "b_node = Node(id=\"B\", metadata={\"color\": \".8 0 0\"})\n",
    "mod_graph.nodes.append(b_node)\n",
    "\n",
    "# Add an input port\n",
    "b_node.input_ports.append(InputPort(id=\"input\"))\n",
    "\n",
    "# Add some parameters\n",
    "b_node.parameters.append(Parameter(id=\"slope\", value=1.2))\n",
    "b_node.parameters.append(Parameter(id=\"intercept\", value=3))\n",
    "\n",
    "\n",
    "# Add a parameter which used the internal parameter as well as the value from the input\n",
    "p1 = Parameter(\n",
    "    id=\"linear_func\",\n",
    "    value=\"input * slope + intercept\",\n",
    ")\n",
    "b_node.parameters.append(p1)\n",
    "\n",
    "# Add an output port\n",
    "b_node.output_ports.append(OutputPort(id=\"output\", value=\"linear_func\"))\n"
   ]
  },
  {
   "cell_type": "markdown",
   "id": "a6c98662",
   "metadata": {},
   "source": [
    "### 1.3 Create an  [Edge](https://mdf.readthedocs.io/en/latest/api/Specification.html#edge) between the [Nodes](https://mdf.readthedocs.io/en/latest/api/Specification.html#node)"
   ]
  },
  {
   "cell_type": "code",
   "execution_count": 4,
   "id": "20b8a6b7",
   "metadata": {},
   "outputs": [
    {
     "name": "stdout",
     "output_type": "stream",
     "text": [
      "ab_example:\n",
      "    nodes:\n",
      "        A:\n",
      "            metadata:\n",
      "                color: 0 .8 0\n",
      "            parameters:\n",
      "                level:\n",
      "                    value: 1.0\n",
      "            output_ports:\n",
      "                output:\n",
      "                    value: level\n",
      "        B:\n",
      "            metadata:\n",
      "                color: .8 0 0\n",
      "            input_ports:\n",
      "                input: {}\n",
      "            parameters:\n",
      "                slope:\n",
      "                    value: 1.2\n",
      "                intercept:\n",
      "                    value: 3\n",
      "                linear_func:\n",
      "                    value: input * slope + intercept\n",
      "            output_ports:\n",
      "                output:\n",
      "                    value: linear_func\n",
      "    edges:\n",
      "        edge_A_B:\n",
      "            sender: A\n",
      "            receiver: B\n",
      "            sender_port: output\n",
      "            receiver_port: input\n",
      "\n"
     ]
    }
   ],
   "source": [
    "# This helper method just adds an edge connecting the first output port of \n",
    "# the pre node to the first input port of the post node\n",
    "from modeci_mdf.utils import simple_connect\n",
    "\n",
    "e1 = simple_connect(a_node, b_node, mod_graph)\n",
    "\n",
    "# Print the current structure\n",
    "print(mod_graph.to_yaml())\n"
   ]
  },
  {
   "cell_type": "markdown",
   "id": "2b8c8f85",
   "metadata": {},
   "source": [
    "### 1.4 Save the model to file\n",
    "\n",
    "The model can be saved to a file (serialized) in either JSON or YAML format."
   ]
  },
  {
   "cell_type": "code",
   "execution_count": 5,
   "id": "e50d9aab",
   "metadata": {},
   "outputs": [
    {
     "name": "stdout",
     "output_type": "stream",
     "text": [
      "modelspec >>> Written Model to: AB.json\n",
      "modelspec >>> Written Model to: AB.yaml\n"
     ]
    },
    {
     "data": {
      "text/plain": [
       "'AB.yaml'"
      ]
     },
     "execution_count": 5,
     "metadata": {},
     "output_type": "execute_result"
    }
   ],
   "source": [
    "mod.to_json_file(\"AB.json\")\n",
    "mod.to_yaml_file(\"AB.yaml\")"
   ]
  },
  {
   "cell_type": "markdown",
   "id": "cdfc66f8",
   "metadata": {},
   "source": [
    "## 2. Generate a graph image from the model <a class=\"anchor\" id=\"h2\"></a>\n",
    "\n",
    "We will use a method on the model to generate an image representing the structure of the graph.\n"
   ]
  },
  {
   "cell_type": "code",
   "execution_count": 6,
   "id": "69740bde",
   "metadata": {},
   "outputs": [
    {
     "name": "stdout",
     "output_type": "stream",
     "text": [
      "Converting MDF graph: ab_example to graphviz (level: 3, format: png)\n",
      "    Node: A\n",
      "Converting 0 .8 0 to hex color\n",
      "    Node: B\n",
      "Converting .8 0 0 to hex color\n",
      "    Edge: edge_A_B connects A to B\n",
      "Written graph image to: AB.png\n"
     ]
    },
    {
     "data": {
      "image/png": "[encoded data removed]",
      "text/plain": [
       "<IPython.core.display.Image object>"
      ]
     },
     "execution_count": 6,
     "metadata": {},
     "output_type": "execute_result"
    }
   ],
   "source": [
    "mod.to_graph_image(\n",
    "        engine=\"dot\",\n",
    "        output_format=\"png\",\n",
    "        view_on_render=False,\n",
    "        level=3,\n",
    "        filename_root=\"AB\"\n",
    "    )\n",
    "\n",
    "from IPython.display import Image\n",
    "Image(filename=\"AB.png\")"
   ]
  },
  {
   "cell_type": "markdown",
   "id": "b6b8aae3",
   "metadata": {},
   "source": [
    "## 3. Execute the graph & print the output values <a class=\"anchor\" id=\"h3\"></a>\n",
    "\n",
    "The Graph is converted to an EvaluableGraph, which can be used to evaluate the current state of the graph's parameters. "
   ]
  },
  {
   "cell_type": "markdown",
   "id": "ece9b9e5",
   "metadata": {},
   "source": [
    "### 3.1 Execute the graph with the current parameter values "
   ]
  },
  {
   "cell_type": "code",
   "execution_count": 7,
   "id": "543006ef",
   "metadata": {},
   "outputs": [
    {
     "name": "stdout",
     "output_type": "stream",
     "text": [
      "\n",
      "Init graph: ab_example\n",
      "Evaluating graph: ab_example, root nodes: ['A'], with array format numpy\n",
      "Output of A: 1\n",
      "Output of B: 4.2\n"
     ]
    }
   ],
   "source": [
    "from modeci_mdf.execution_engine import EvaluableGraph\n",
    "\n",
    "eg = EvaluableGraph(mod_graph, verbose=False)\n",
    "eg.evaluate()\n",
    "\n",
    "print('Output of A: %s'%eg.enodes[\"A\"].evaluable_outputs[\"output\"].curr_value)\n",
    "print('Output of B: %s'%eg.enodes[\"B\"].evaluable_outputs[\"output\"].curr_value)"
   ]
  },
  {
   "cell_type": "markdown",
   "id": "87824063",
   "metadata": {},
   "source": [
    "### 3.2 Change a value to a Numpy array & execute the graph again"
   ]
  },
  {
   "cell_type": "code",
   "execution_count": 8,
   "id": "e9142f37",
   "metadata": {},
   "outputs": [
    {
     "name": "stdout",
     "output_type": "stream",
     "text": [
      "Evaluating graph: ab_example, root nodes: ['A'], with array format numpy\n",
      "Output of A:\n",
      "[[1 2]\n",
      " [3 4]]\n",
      "Output of B:\n",
      "[[4.2 5.4]\n",
      " [6.6 7.8]]\n"
     ]
    }
   ],
   "source": [
    "import numpy as np \n",
    "a_node.get_parameter('level').value = np.array([[1,2],[3,4]])\n",
    "\n",
    "eg.evaluate()\n",
    "\n",
    "print('Output of A:\\n%s'%eg.enodes[\"A\"].evaluable_outputs[\"output\"].curr_value)\n",
    "print('Output of B:\\n%s'%eg.enodes[\"B\"].evaluable_outputs[\"output\"].curr_value)"
   ]
  },
  {
   "cell_type": "code",
   "execution_count": null,
   "id": "b52d116e",
   "metadata": {},
   "outputs": [],
   "source": []
  }
 ],
 "metadata": {
  "kernelspec": {
   "display_name": "Python 3",
   "language": "python",
   "name": "python3"
  },
  "language_info": {
   "codemirror_mode": {
    "name": "ipython",
    "version": 3
   },
   "file_extension": ".py",
   "mimetype": "text/x-python",
   "name": "python",
   "nbconvert_exporter": "python",
   "pygments_lexer": "ipython3",
   "version": "3.8.10"
  }
 },
 "nbformat": 4,
 "nbformat_minor": 5
}
